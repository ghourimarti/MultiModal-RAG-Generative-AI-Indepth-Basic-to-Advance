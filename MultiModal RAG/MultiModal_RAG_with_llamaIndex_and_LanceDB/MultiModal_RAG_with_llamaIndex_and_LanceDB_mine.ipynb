{
  "cells": [
    {
      "cell_type": "markdown",
      "metadata": {},
      "source": [
        "## **1. Instructions**\n",
        "\n",
        "**MultiModal RAG App for Video Processing With LlamaIndex and LanceDB**\n",
        "\n",
        "1. llamaindex framework\n",
        "\n",
        "2. Lancedb Vector DataBase\n",
        "   \n",
        "3. LLM MultiModAl GPT-4V or Google-gemini-pro-vision\n",
        "\n",
        "\n",
        "**Steps Need to follow:**\n",
        "1. Download video from YouTube, process and store it.\n",
        "\n",
        "2. Build Multi-Modal index and vector store for both texts and images.\n",
        "\n",
        "3. Retrieve relevant images and context, use both to augment the prompt.\n",
        "\n",
        "4. Using GPT4V for reasoning the correlations between the input query and augmented data and generating final response."
      ]
    },
    {
      "cell_type": "markdown",
      "metadata": {
        "id": "5ZHVe_qkiYkg"
      },
      "source": []
    },
    {
      "cell_type": "markdown",
      "metadata": {},
      "source": [
        "## **2. IMPORT AND INSTALL**"
      ]
    },
    {
      "cell_type": "markdown",
      "metadata": {},
      "source": [
        "### Vector DB libraries"
      ]
    },
    {
      "cell_type": "code",
      "execution_count": 1,
      "metadata": {
        "colab": {
          "base_uri": "https://localhost:8080/",
          "height": 1000
        },
        "id": "sY9xSK0SihIG",
        "outputId": "22e8e2d4-aa21-4706-8660-76cb79a39caa"
      },
      "outputs": [],
      "source": [
        "# %pip install llama-index-vector-stores-lancedb\n",
        "# %pip install llama-index-multi-modal-llms-openai\n",
        "# %pip install llama-index-embeddings-clip\n",
        "# %pip install git+https://github.com/openai/CLIP.git\n",
        "# !pip install llama-index-readers-file"
      ]
    },
    {
      "cell_type": "code",
      "execution_count": 2,
      "metadata": {
        "colab": {
          "base_uri": "https://localhost:8080/"
        },
        "id": "qNZ4yrIMpa9S",
        "outputId": "cad849f2-6b95-4e56-b3c1-da66eb4a89bc"
      },
      "outputs": [],
      "source": [
        "# %pip install llama_index\n",
        "# %pip install -U openai-whisper"
      ]
    },
    {
      "cell_type": "markdown",
      "metadata": {},
      "source": [
        "### Video Libraries"
      ]
    },
    {
      "cell_type": "code",
      "execution_count": 3,
      "metadata": {
        "colab": {
          "base_uri": "https://localhost:8080/",
          "height": 1000
        },
        "id": "Y6xmSWjkppBJ",
        "outputId": "637cab2b-a090-47e5-b4e3-b88428ef65c2"
      },
      "outputs": [],
      "source": [
        "# %pip install lancedb\n",
        "# %pip install moviepy\n",
        "# %pip install pytube\n",
        "# %pip install pydub\n",
        "# %pip install SpeechRecognition\n",
        "# %pip install ffmpeg-python\n",
        "# %pip install soundfile\n",
        "# %pip install torch torchvision\n",
        "# %pip install matplotlib scikit-image\n",
        "# %pip install ftfy regex tqdm"
      ]
    },
    {
      "cell_type": "markdown",
      "metadata": {
        "id": "tMlqUqibp0ji"
      },
      "source": [
        "1. ffmpeg-library enables you to use FFmpeg in Python to manipulate various media files for different purposes like building comprehensive multimedia applications, preprocessing media files.\n",
        "\n",
        "2. MoviePy is a Python library for video editing, enabling cutting, concatenations, title insertions, video compositing, and effects like animations or color grading.\n",
        "\n",
        "3. Pytube is a Python library used for downloading videos from YouTube. It supports downloading in various formats, resolutions, and also direct audio extraction.\n",
        "\n",
        "4. Pydub is a Python library for audio manipulation, enabling easy loading,\n",
        "editing, and exporting of audio files in various formats with minimal code.\n",
        "\n",
        "5. The SpeechRecognition library in Python allows you to convert spoken language into text using various engines and APIs, such as Google Speech Recognition, IBM Speech to Text, etc.\n",
        "\n",
        "6. SoundFile is a Python library for reading from and writing to audio files, supporting many formats through the libsndfile library, ideal for high-quality audio processing.\n",
        "\n",
        "7. FTFY (Fix Text For You) is a Python library that fixes broken Unicode text and mojibake (garbled text due to encoding issues), making text legible again.\n",
        "\n",
        "8. OpenAI Whisper is a robust, multilingual speech recognition model developed by OpenAI. It converts speech into text and supports various languages with high accuracy.\n",
        "\n",
        "9. pprint is a Python module that provides a capability to \"pretty-print\" complex data structures in a well-formatted and more readable way than the basic print function."
      ]
    },
    {
      "cell_type": "code",
      "execution_count": 25,
      "metadata": {},
      "outputs": [
        {
          "name": "stdout",
          "output_type": "stream",
          "text": [
            "OPENAI_API_TOKEN: sk-proj-Bs...\n",
            "d:\\Coursera Courses (NVME)\\MultiModal RAG\\MultiModal-RAG-Generative-AI-Indepth-Basic-to-Advance\\MultiModal RAG\n"
          ]
        }
      ],
      "source": [
        "import moviepy\n",
        "import os\n",
        "from moviepy import VideoFileClip\n",
        "from pathlib import Path\n",
        "import speech_recognition as sr\n",
        "from pytube import YouTube\n",
        "from pprint import pprint\n",
        "from PIL import Image\n",
        "import matplotlib.pyplot as plt\n",
        "import yt_dlp\n",
        "import os\n",
        "import dotenv\n",
        "import json\n",
        "from llama_index.multi_modal_llms.openai import OpenAIMultiModal\n",
        "\n",
        "dotenv.load_dotenv()\n",
        "OPENAI_API_TOKEN = os.getenv(\"OPENAI_API_KEY\")\n",
        "print(f\"OPENAI_API_TOKEN: {OPENAI_API_TOKEN[0:10]}...\")\n",
        "os.environ[\"OPENAI_API_KEY\"] = OPENAI_API_TOKEN\n",
        "# print(moviepy.__file__)\n",
        "absolute_path = os.getcwd()\n",
        "print(absolute_path)"
      ]
    },
    {
      "cell_type": "markdown",
      "metadata": {},
      "source": [
        "## **3. Extract images, audio and text from video**"
      ]
    },
    {
      "cell_type": "markdown",
      "metadata": {},
      "source": [
        "### 1. Paths and Folder"
      ]
    },
    {
      "cell_type": "code",
      "execution_count": 5,
      "metadata": {
        "id": "0dA6Lv4Hqp26"
      },
      "outputs": [
        {
          "name": "stdout",
          "output_type": "stream",
          "text": [
            "filepath : d:\\Coursera Courses (NVME)\\MultiModal RAG\\MultiModal-RAG-Generative-AI-Indepth-Basic-to-Advance\\MultiModal RAG\\content\\video_data\\\n",
            "video_url : https://youtu.be/3dhcmeOTZ_Q\n",
            "output_video_path : d:\\Coursera Courses (NVME)\\MultiModal RAG\\MultiModal-RAG-Generative-AI-Indepth-Basic-to-Advance\\MultiModal RAG\\content\\video_data\\\n",
            "output_audio_path : d:\\Coursera Courses (NVME)\\MultiModal RAG\\MultiModal-RAG-Generative-AI-Indepth-Basic-to-Advance\\MultiModal RAG\\content\\mixed_data\\output_audio.wav\n"
          ]
        }
      ],
      "source": [
        "video_url=\"https://youtu.be/3dhcmeOTZ_Q\"\n",
        "# video_url=\"https://www.youtube.com/watch?v=pvrioGzF-6s&list=PLQxDHpeGU14D6dm0rmAXhdLeLYlX2zk7p&index=3&ab_channel=SunnySavita\"\n",
        "\n",
        "output_video_path = absolute_path + \"\\\\content\\\\video_data\\\\\"\n",
        "\n",
        "# from the video i am going to collect images,audio,text\n",
        "output_folder = absolute_path + \"\\\\content\\\\mixed_data\\\\\"\n",
        "output_audio_path = absolute_path + \"\\\\content\\\\mixed_data\\\\output_audio.wav\"\n",
        "\n",
        "# !mkdir mixed_data\n",
        "\n",
        "filepath = output_video_path #+ \"input_vid.mp4\"\n",
        "print(f\"filepath : {filepath}\")\n",
        "print(f\"video_url : {video_url}\")\n",
        "print(f\"output_video_path : {output_video_path}\")\n",
        "print(f\"output_audio_path : {output_audio_path}\")\n"
      ]
    },
    {
      "cell_type": "markdown",
      "metadata": {},
      "source": [
        "### 2. download_video"
      ]
    },
    {
      "cell_type": "code",
      "execution_count": 6,
      "metadata": {
        "id": "dwfB_9uhrB2F"
      },
      "outputs": [
        {
          "name": "stdout",
          "output_type": "stream",
          "text": [
            "[youtube] Extracting URL: https://youtu.be/3dhcmeOTZ_Q\n",
            "[youtube] 3dhcmeOTZ_Q: Downloading webpage\n",
            "[youtube] 3dhcmeOTZ_Q: Downloading tv client config\n",
            "[youtube] 3dhcmeOTZ_Q: Downloading tv player API JSON\n",
            "[youtube] 3dhcmeOTZ_Q: Downloading ios player API JSON\n",
            "[youtube] 3dhcmeOTZ_Q: Downloading m3u8 information\n",
            "[info] 3dhcmeOTZ_Q: Downloading 1 format(s): 303+251\n",
            "[download] d:\\Coursera Courses (NVME)\\MultiModal RAG\\MultiModal-RAG-Generative-AI-Indepth-Basic-to-Advance\\MultiModal RAG\\content\\video_data\\input_vid.webm has already been downloaded\n",
            "Video downloaded to: \n",
            "d:\\Coursera Courses (NVME)\\MultiModal RAG\\MultiModal-RAG-Generative-AI-Indepth-Basic-to-Advance\\MultiModal RAG\\content\\video_data\\input_vid.webm\n"
          ]
        }
      ],
      "source": [
        "# Download the video from YouTube\n",
        "def download_video(url, output_path):\n",
        "    ydl_opts = {\n",
        "        'outtmpl': f'{output_path}/input_vid.%(ext)s',\n",
        "        'format': 'bestvideo+bestaudio/best',\n",
        "    }\n",
        "\n",
        "    with yt_dlp.YoutubeDL(ydl_opts) as ydl:\n",
        "        info_dict = ydl.extract_info(url, download=True)\n",
        "        downloaded_path = ydl.prepare_filename(info_dict)\n",
        "        metadata = {\n",
        "            \"Author\": info_dict.get(\"uploader\"),\n",
        "            \"Title\": info_dict.get(\"title\"),\n",
        "            \"Views\": info_dict.get(\"view_count\"),\n",
        "            \"FilePath\": downloaded_path,\n",
        "\n",
        "        }\n",
        "\n",
        "    return metadata\n",
        "\n",
        "metadata_vid = download_video(video_url, output_video_path)\n",
        "video_filepath = metadata_vid[\"FilePath\"]\n",
        "print(f\"Video downloaded to: \\n{video_filepath}\")"
      ]
    },
    {
      "cell_type": "markdown",
      "metadata": {},
      "source": [
        "### 3. video_to_images"
      ]
    },
    {
      "cell_type": "code",
      "execution_count": 7,
      "metadata": {},
      "outputs": [
        {
          "name": "stderr",
          "output_type": "stream",
          "text": [
            "                                                            \r"
          ]
        }
      ],
      "source": [
        "# Download the video\n",
        "def video_to_images(video_path,output_folder):\n",
        "  clip = VideoFileClip(video_path)\n",
        "  clip.write_images_sequence(\n",
        "      os.path.join(output_folder,\"frame%04d.png\"),\n",
        "      fps = 0.2\n",
        "  )\n",
        "\n",
        "video_to_images(video_filepath , output_folder)"
      ]
    },
    {
      "cell_type": "markdown",
      "metadata": {},
      "source": [
        "### 4. video_to_audio"
      ]
    },
    {
      "cell_type": "code",
      "execution_count": 8,
      "metadata": {},
      "outputs": [
        {
          "name": "stdout",
          "output_type": "stream",
          "text": [
            "MoviePy - Writing audio in d:\\Coursera Courses (NVME)\\MultiModal RAG\\MultiModal-RAG-Generative-AI-Indepth-Basic-to-Advance\\MultiModal RAG\\content\\mixed_data\\output_audio.wav\n"
          ]
        },
        {
          "name": "stderr",
          "output_type": "stream",
          "text": [
            "                                                                      \r"
          ]
        },
        {
          "name": "stdout",
          "output_type": "stream",
          "text": [
            "MoviePy - Done.\n"
          ]
        }
      ],
      "source": [
        "# Download the video\n",
        "def video_to_audio(video_path,output_audio_path):\n",
        "  clip = VideoFileClip(video_path)\n",
        "  audio = clip.audio\n",
        "  audio.write_audiofile(output_audio_path)\n",
        " \n",
        "video_to_audio(video_filepath , output_audio_path)"
      ]
    },
    {
      "cell_type": "markdown",
      "metadata": {},
      "source": [
        "### 5. audio_to_text"
      ]
    },
    {
      "cell_type": "code",
      "execution_count": 9,
      "metadata": {
        "colab": {
          "base_uri": "https://localhost:8080/"
        },
        "id": "JbtVwXvgsqD8",
        "outputId": "5e51c2e6-cbea-4ad8-e76e-c444eb027bfc"
      },
      "outputs": [
        {
          "name": "stdout",
          "output_type": "stream",
          "text": [
            "Extracted Text:  Lennie regression is a statistical technique for modeling the relationship between an output variable and one or more input variables. In layman's terms, think of it as fitting a line through some data points as shown here, so you can make predictions on unknown data, assuming there is a linear relationship between the variables. You might be familiar with the linear function y equals mx plus b, where y is the output variable, also called the dependent variable. You may also see expressed as f of x, the function of the input variable. x on the other hand, would serve as the input variable, also called the independent variable. It's likely you'll see the coefficients m and b expressed as beta 1 and beta 0 respectively. So what do the m and b coefficients do? The m or beta 1 coefficient controls the slope of the line, the b or the beta 0 controls the intercept of the line, in machine learning we also know it as the bias. These two coefficients are what we are solving for in linear regression. We can also extend to multiple input variables, so x1, x2, x3, with beta 1, beta 2, and beta 3, and so on, acting as slopes for each of those variables. In these higher dimensions, you would visualize the linear regression as a hyperplane. So how do we fit the line to these points? Well you'll notice that there's these differences between the points and the line, these little red segments, these are called residuals. They are the differences between the data points and the predictions the line would produce. Take each of these residuals and square them. These are the squared errors, and notice that the large of the residuals are, the more amplified area of the squares are. If we total the areas of all of these squares for a given line, we will get the sum of the squared error, and this is known as our loss function. We need to find the beta 0 and beta 1 coefficients that will minimize that sum of squared error. The coefficients can be solved with a variety of techniques ranging from matrix decomposition to gradient descent, which is depicted right here. Thankfully a lot of libraries are available to do this for us, and we will deep dive into these topics in other videos. To validate Illini regression, there are a number of techniques. Machine learning practitioners will often take a third of the data and put it into the test data set. The remaining two thirds will become the training data set. The training data set will then be used to fit the regression line. The test data set will then be used to validate the regression line. This is done to make sure that the regression performs well on data it has not seen before. This is used to evaluate the linear regression vary from the R square, standard error of the estimate, prediction intervals, as well as statistical significance. These are topics we will cover in future videos. If you enjoyed this video, please like and subscribe. Look at my two O'Reilly books, Essential Math for Data Science, and getting started with SQL. Chapter five of Essential Math for Data Science actually covers linear regression in much more depth. If you want live instruction, I also do teach on the O'Reilly platform, promotional link below. I teach classes including machine learning from scratch, probability, and SQL. Comment on what topics you would like to see next, and I will see you again on 3 Minute Data Science.\n"
          ]
        }
      ],
      "source": [
        "# Function to extract audio from a video file and convert it to text using Whisper\n",
        "def audio_to_text(audio_path):\n",
        "  recognizer = sr.Recognizer()\n",
        "  audio = sr.AudioFile(audio_path)\n",
        "\n",
        "  with audio as source:\n",
        "    audio_data = recognizer.record(source)\n",
        "\n",
        "    try:\n",
        "      #recognize the speech\n",
        "      text = recognizer.recognize_whisper(audio_data)\n",
        "\n",
        "    except sr.UnknownValueError:\n",
        "      print(\"Speech recognition could not understand the audio.\")\n",
        "  return text\n",
        "\n",
        "text_data=audio_to_text(output_audio_path)\n",
        "print(f\"Extracted Text: {text_data}\")\n",
        "\n"
      ]
    },
    {
      "cell_type": "markdown",
      "metadata": {},
      "source": [
        "### 6. Write data file"
      ]
    },
    {
      "cell_type": "code",
      "execution_count": 10,
      "metadata": {
        "colab": {
          "base_uri": "https://localhost:8080/"
        },
        "id": "EgEEv89ptdHp",
        "outputId": "d9ceef12-1119-4595-d077-925034701218"
      },
      "outputs": [
        {
          "name": "stdout",
          "output_type": "stream",
          "text": [
            "Text data saved to file\n"
          ]
        }
      ],
      "source": [
        "# write the text data to a file\n",
        "with open(output_folder + \"output_text.txt\", \"w\") as file:\n",
        "        file.write(text_data)\n",
        "print(\"Text data saved to file\")\n",
        "file.close()"
      ]
    },
    {
      "cell_type": "code",
      "execution_count": 11,
      "metadata": {
        "colab": {
          "base_uri": "https://localhost:8080/"
        },
        "id": "zse424_3tl9a",
        "outputId": "240eb1ac-2384-4ef4-e11b-3f31e8af11a5"
      },
      "outputs": [
        {
          "name": "stdout",
          "output_type": "stream",
          "text": [
            "Audio file removed\n"
          ]
        }
      ],
      "source": [
        "os.remove(output_audio_path)\n",
        "print(\"Audio file removed\")"
      ]
    },
    {
      "cell_type": "code",
      "execution_count": 12,
      "metadata": {
        "id": "7KB6YBHJuCLt"
      },
      "outputs": [],
      "source": [
        "#process the video\n",
        "#image\n",
        "#text"
      ]
    },
    {
      "cell_type": "markdown",
      "metadata": {},
      "source": [
        "## **4. Vector DB**"
      ]
    },
    {
      "cell_type": "markdown",
      "metadata": {},
      "source": [
        "### 1. Indexing"
      ]
    },
    {
      "cell_type": "code",
      "execution_count": 13,
      "metadata": {
        "id": "vj4OUtZluIGG"
      },
      "outputs": [],
      "source": [
        "from llama_index.core.indices import MultiModalVectorStoreIndex\n",
        "from llama_index.core import SimpleDirectoryReader\n",
        "from llama_index.core import StorageContext\n",
        "from llama_index.vector_stores.lancedb import LanceDBVectorStore\n",
        "\n",
        "from llama_index.core.response.notebook_utils import display_source_node\n",
        "from llama_index.core.schema import ImageNode"
      ]
    },
    {
      "cell_type": "code",
      "execution_count": null,
      "metadata": {
        "id": "xUv_t8vMuxYK"
      },
      "outputs": [],
      "source": [
        "# 📦 1. Create Vector Stores for Text and Images\n",
        "text_store =  LanceDBVectorStore(uri=\"lancedb\" , table_name=\"text_collection\")\n",
        "image_store = LanceDBVectorStore(uri=\"lancedb\" , table_name=\"image_collection\")\n",
        "\n",
        "# 🧠 2. Create a Unified Storage Context\n",
        "storage_context = StorageContext.from_defaults(vector_store=text_store,image_store=image_store)\n",
        "\n",
        "# 📂 3. Load Documents\n",
        "documents = SimpleDirectoryReader(output_folder).load_data()\n",
        "\n",
        "# 📇 4. Create a MultiModal Index\n",
        "index = MultiModalVectorStoreIndex.from_documents(documents,storage_context=storage_context)\n",
        "\n",
        "# 🔍 5. Create a Retriever Engine\n",
        "retriever_engine = index.as_retriever(similarity_top_k=1, image_similarity_top_k=5)\n"
      ]
    },
    {
      "cell_type": "markdown",
      "metadata": {},
      "source": [
        "### 2. Retriever"
      ]
    },
    {
      "cell_type": "code",
      "execution_count": 15,
      "metadata": {
        "id": "3c5AB1KWv3yv"
      },
      "outputs": [],
      "source": [
        "def retrieve(retriever_engine, query_str):\n",
        "    retrieval_results = retriever_engine.retrieve(query_str)\n",
        "\n",
        "    retrieved_image = []\n",
        "    retrieved_text = []\n",
        "    for res_node in retrieval_results:\n",
        "        if isinstance(res_node.node, ImageNode):\n",
        "            retrieved_image.append(res_node.node.metadata[\"file_path\"])\n",
        "        else:\n",
        "            display_source_node(res_node, source_length=2000)\n",
        "            retrieved_text.append(res_node.text)\n",
        "\n",
        "    return retrieved_image, retrieved_text"
      ]
    },
    {
      "cell_type": "code",
      "execution_count": 16,
      "metadata": {
        "id": "LZHW-10jwEla"
      },
      "outputs": [],
      "source": [
        "query = \"can you tell me what is linear regression? explain equation of the multiple linear regression?\""
      ]
    },
    {
      "cell_type": "markdown",
      "metadata": {},
      "source": [
        "### 3. Query"
      ]
    },
    {
      "cell_type": "code",
      "execution_count": 17,
      "metadata": {
        "colab": {
          "base_uri": "https://localhost:8080/",
          "height": 98
        },
        "id": "byH2Aq95wK1B",
        "outputId": "048af396-0548-4ae2-ccb6-cfc00751a975"
      },
      "outputs": [
        {
          "data": {
            "text/markdown": [
              "**Node ID:** 702e38b0-40d0-4f10-83ab-58048b34fc2b<br>**Similarity:** 0.7461580038070679<br>**Text:** Lennie regression is a statistical technique for modeling the relationship between an output variable and one or more input variables. In layman's terms, think of it as fitting a line through some data points as shown here, so you can make predictions on unknown data, assuming there is a linear relationship between the variables. You might be familiar with the linear function y equals mx plus b, where y is the output variable, also called the dependent variable. You may also see expressed as f of x, the function of the input variable. x on the other hand, would serve as the input variable, also called the independent variable. It's likely you'll see the coefficients m and b expressed as beta 1 and beta 0 respectively. So what do the m and b coefficients do? The m or beta 1 coefficient controls the slope of the line, the b or the beta 0 controls the intercept of the line, in machine learning we also know it as the bias. These two coefficients are what we are solving for in linear regression. We can also extend to multiple input variables, so x1, x2, x3, with beta 1, beta 2, and beta 3, and so on, acting as slopes for each of those variables. In these higher dimensions, you would visualize the linear regression as a hyperplane. So how do we fit the line to these points? Well you'll notice that there's these differences between the points and the line, these little red segments, these are called residuals. They are the differences between the data points and the predictions the line would produce. Take each of these residuals and square them. These are the squared errors, and notice that the large of the residuals are, the more amplified area of the squares are. If we total the areas of all of these squares for a given line, we will get the sum of the squared error, and this is known as our loss function. We need to find the beta 0 and beta 1 coefficients that will minimize that sum of squared error. The coefficients can be solved with a variety of techniques rangin...<br>"
            ],
            "text/plain": [
              "<IPython.core.display.Markdown object>"
            ]
          },
          "metadata": {},
          "output_type": "display_data"
        },
        {
          "data": {
            "text/plain": [
              "['d:\\\\Coursera Courses (NVME)\\\\MultiModal RAG\\\\MultiModal-RAG-Generative-AI-Indepth-Basic-to-Advance\\\\MultiModal RAG\\\\content\\\\mixed_data\\\\frame0003.png',\n",
              " 'd:\\\\Coursera Courses (NVME)\\\\MultiModal RAG\\\\MultiModal-RAG-Generative-AI-Indepth-Basic-to-Advance\\\\MultiModal RAG\\\\content\\\\mixed_data\\\\frame0028.png',\n",
              " 'd:\\\\Coursera Courses (NVME)\\\\MultiModal RAG\\\\MultiModal-RAG-Generative-AI-Indepth-Basic-to-Advance\\\\MultiModal RAG\\\\content\\\\mixed_data\\\\frame0042.png']"
            ]
          },
          "execution_count": 17,
          "metadata": {},
          "output_type": "execute_result"
        }
      ],
      "source": [
        "img , text = retrieve(retriever_engine , query)\n",
        "img"
      ]
    },
    {
      "cell_type": "code",
      "execution_count": 18,
      "metadata": {
        "id": "HnCjdTmnwSVJ"
      },
      "outputs": [],
      "source": [
        "import matplotlib.pyplot as plt\n",
        "def plot_images(images_path):\n",
        "  images_shown = 0\n",
        "  plt.figure(figsize=(16, 9))\n",
        "  for img_path in images_path:\n",
        "        if os.path.isfile(img_path):\n",
        "            image = Image.open(img_path)\n",
        "\n",
        "            plt.subplot(2, 3, images_shown + 1)\n",
        "            plt.imshow(image)\n",
        "            plt.xticks([])\n",
        "            plt.yticks([])\n",
        "\n",
        "            images_shown += 1\n",
        "            if images_shown >= 5:\n",
        "                break"
      ]
    },
    {
      "cell_type": "code",
      "execution_count": 19,
      "metadata": {
        "colab": {
          "base_uri": "https://localhost:8080/",
          "height": 532
        },
        "id": "ovyDQLk-wkcS",
        "outputId": "12fd36b6-c601-4f0b-e306-69d441fb3b31"
      },
      "outputs": [
        {
          "data": {
            "image/png": "[encoded data removed]",
            "text/plain": [
              "<Figure size 1600x900 with 3 Axes>"
            ]
          },
          "metadata": {},
          "output_type": "display_data"
        }
      ],
      "source": [
        "plot_images(img)"
      ]
    },
    {
      "cell_type": "code",
      "execution_count": 32,
      "metadata": {},
      "outputs": [
        {
          "data": {
            "text/plain": [
              "[ImageDocument(id_='993e1482-2b01-44cf-b5af-9d282b9470d8', embedding=None, metadata={'file_path': 'd:\\\\Coursera Courses (NVME)\\\\MultiModal RAG\\\\MultiModal-RAG-Generative-AI-Indepth-Basic-to-Advance\\\\MultiModal RAG\\\\content\\\\mixed_data\\\\frame0003.png', 'file_name': 'frame0003.png', 'file_type': 'image/png', 'file_size': 93670, 'creation_date': '2025-07-23', 'last_modified_date': '2025-07-23'}, excluded_embed_metadata_keys=['file_name', 'file_type', 'file_size', 'creation_date', 'last_modified_date', 'last_accessed_date'], excluded_llm_metadata_keys=['file_name', 'file_type', 'file_size', 'creation_date', 'last_modified_date', 'last_accessed_date'], relationships={}, metadata_template='{key}: {value}', metadata_separator='\\n', text_resource=None, image_resource=MediaResource(embeddings=None, data=None, text=None, path=WindowsPath('d:/Coursera Courses (NVME)/MultiModal RAG/MultiModal-RAG-Generative-AI-Indepth-Basic-to-Advance/MultiModal RAG/content/mixed_data/frame0003.png'), url=None, mimetype='image/png'), audio_resource=None, video_resource=None, text_template='{metadata_str}\\n\\n{content}'),\n",
              " ImageDocument(id_='3d38c551-5bf1-4328-986b-ad3b0857ef9f', embedding=None, metadata={'file_path': 'd:\\\\Coursera Courses (NVME)\\\\MultiModal RAG\\\\MultiModal-RAG-Generative-AI-Indepth-Basic-to-Advance\\\\MultiModal RAG\\\\content\\\\mixed_data\\\\frame0028.png', 'file_name': 'frame0028.png', 'file_type': 'image/png', 'file_size': 129112, 'creation_date': '2025-07-23', 'last_modified_date': '2025-07-23'}, excluded_embed_metadata_keys=['file_name', 'file_type', 'file_size', 'creation_date', 'last_modified_date', 'last_accessed_date'], excluded_llm_metadata_keys=['file_name', 'file_type', 'file_size', 'creation_date', 'last_modified_date', 'last_accessed_date'], relationships={}, metadata_template='{key}: {value}', metadata_separator='\\n', text_resource=None, image_resource=MediaResource(embeddings=None, data=None, text=None, path=WindowsPath('d:/Coursera Courses (NVME)/MultiModal RAG/MultiModal-RAG-Generative-AI-Indepth-Basic-to-Advance/MultiModal RAG/content/mixed_data/frame0028.png'), url=None, mimetype='image/png'), audio_resource=None, video_resource=None, text_template='{metadata_str}\\n\\n{content}'),\n",
              " ImageDocument(id_='b0bc3e4b-410a-4cc5-ab52-5320a9e2f75c', embedding=None, metadata={'file_path': 'd:\\\\Coursera Courses (NVME)\\\\MultiModal RAG\\\\MultiModal-RAG-Generative-AI-Indepth-Basic-to-Advance\\\\MultiModal RAG\\\\content\\\\mixed_data\\\\frame0042.png', 'file_name': 'frame0042.png', 'file_type': 'image/png', 'file_size': 496929, 'creation_date': '2025-07-23', 'last_modified_date': '2025-07-23'}, excluded_embed_metadata_keys=['file_name', 'file_type', 'file_size', 'creation_date', 'last_modified_date', 'last_accessed_date'], excluded_llm_metadata_keys=['file_name', 'file_type', 'file_size', 'creation_date', 'last_modified_date', 'last_accessed_date'], relationships={}, metadata_template='{key}: {value}', metadata_separator='\\n', text_resource=None, image_resource=MediaResource(embeddings=None, data=None, text=None, path=WindowsPath('d:/Coursera Courses (NVME)/MultiModal RAG/MultiModal-RAG-Generative-AI-Indepth-Basic-to-Advance/MultiModal RAG/content/mixed_data/frame0042.png'), url=None, mimetype='image/png'), audio_resource=None, video_resource=None, text_template='{metadata_str}\\n\\n{content}')]"
            ]
          },
          "execution_count": 32,
          "metadata": {},
          "output_type": "execute_result"
        }
      ],
      "source": [
        "image_documents = SimpleDirectoryReader( input_files = img).load_data()\n",
        "image_documents"
      ]
    },
    {
      "cell_type": "markdown",
      "metadata": {},
      "source": [
        "### 4. RAG Prompt with LLM"
      ]
    },
    {
      "cell_type": "code",
      "execution_count": 41,
      "metadata": {
        "id": "97bGd7wcyKTZ"
      },
      "outputs": [
        {
          "name": "stderr",
          "output_type": "stream",
          "text": [
            "C:\\Users\\ZAIN\\AppData\\Local\\Temp\\ipykernel_19716\\3686214337.py:26: DeprecationWarning: Call to deprecated class OpenAIMultiModal. (The package has been deprecated and will no longer be maintained. Please use llama-index-llms-openai (preferably the Responses API) instead. See Multi Modal LLMs documentation for a complete guide on migration: https://docs.llamaindex.ai/en/stable/understanding/using_llms/using_llms/#multi-modal-llms) -- Deprecated since version 0.5.2.\n",
            "  openai_mm_llm = OpenAIMultiModal(model=\"gpt-4o\", api_key=OPENAI_API_TOKEN, max_new_tokens=1500)\n"
          ]
        }
      ],
      "source": [
        "metadata_str = json.dumps(metadata_vid)\n",
        "query_str = \"can you tell me what is linear regression and equation of linear regression?\"\n",
        "context_str = \"\".join(text)\n",
        "\n",
        "# system template prompt\n",
        "qa_tmpl_str = (\n",
        "    \"Based on the provided information, including relevant images and retrieved context from the video, \\\n",
        "    accurately and precisely answer the query without any additional prior knowledge.\\n\"\n",
        "\n",
        "    \"---------------------\\n\"\n",
        "    \"Context: {context_str}\\n\"\n",
        "    \"Metadata for video: {metadata_str} \\n\"\n",
        "\n",
        "    \"---------------------\\n\"\n",
        "    \"Query: {query_str}\\n\"\n",
        "    \"Answer: \"\n",
        ")\n",
        "\n",
        "# prompt \n",
        "prompt = qa_tmpl_str.format(\n",
        "    query_str = query_str,\n",
        "    metadata_str = metadata_str,\n",
        "    context_str=context_str)\n",
        "\n",
        "# llm\n",
        "openai_mm_llm = OpenAIMultiModal(model=\"gpt-4o\", api_key=OPENAI_API_TOKEN, max_new_tokens=1500)"
      ]
    },
    {
      "cell_type": "code",
      "execution_count": 42,
      "metadata": {},
      "outputs": [],
      "source": [
        "from llama_index.core.schema import ImageNode\n",
        "\n",
        "image_nodes = [\n",
        "    ImageNode(image_path=doc.metadata[\"file_path\"])  # or `image=...` depending on version\n",
        "    for doc in image_documents\n",
        "]\n",
        "\n",
        "result = openai_mm_llm.complete(\n",
        "    prompt=prompt,\n",
        "    image_documents=image_nodes,\n",
        ")\n"
      ]
    },
    {
      "cell_type": "code",
      "execution_count": 43,
      "metadata": {
        "colab": {
          "base_uri": "https://localhost:8080/"
        },
        "id": "2PGjzok8zKDS",
        "outputId": "039f8566-0095-4095-bd9c-1e261e2d359c"
      },
      "outputs": [
        {
          "name": "stdout",
          "output_type": "stream",
          "text": [
            "('Linear regression is a statistical technique used to model the relationship '\n",
            " 'between an output variable (dependent variable) and one or more input '\n",
            " 'variables (independent variables). It involves fitting a line through data '\n",
            " 'points to make predictions, assuming a linear relationship between the '\n",
            " 'variables.\\n'\n",
            " '\\n'\n",
            " 'The equation for linear regression is:\\n'\n",
            " '\\n'\n",
            " '\\\\[ y = mx + b \\\\]\\n'\n",
            " '\\n'\n",
            " 'Where:\\n'\n",
            " '- \\\\( y \\\\) is the output (dependent variable).\\n'\n",
            " '- \\\\( x \\\\) is the input (independent variable).\\n'\n",
            " '- \\\\( m \\\\) (or \\\\(\\\\beta_1\\\\)) is the slope of the line.\\n'\n",
            " '- \\\\( b \\\\) (or \\\\(\\\\beta_0\\\\)) is the intercept, also known as the bias.')\n"
          ]
        }
      ],
      "source": [
        "pprint(result.text)"
      ]
    },
    {
      "cell_type": "code",
      "execution_count": 44,
      "metadata": {
        "id": "t8Y8VyRbzYuB"
      },
      "outputs": [],
      "source": [
        "qa_tmpl_str=(\n",
        "    \"Based on the provided information, including relevant images and retrieved context from the video, \\\n",
        "    accurately and precisely answer the query without any additional prior knowledge.\\n\"\n",
        "\n",
        "    \"---------------------\\n\"\n",
        "    \"Metadata for video: {metadata_str} \\n\"\n",
        "\n",
        "    \"---------------------\\n\"\n",
        "    \"Query: {query_str}\\n\"\n",
        "    \"Answer: \"\n",
        ")"
      ]
    }
  ],
  "metadata": {
    "colab": {
      "provenance": []
    },
    "kernelspec": {
      "display_name": ".multimodal_rag",
      "language": "python",
      "name": "python3"
    },
    "language_info": {
      "codemirror_mode": {
        "name": "ipython",
        "version": 3
      },
      "file_extension": ".py",
      "mimetype": "text/x-python",
      "name": "python",
      "nbconvert_exporter": "python",
      "pygments_lexer": "ipython3",
      "version": "3.13.3"
    }
  },
  "nbformat": 4,
  "nbformat_minor": 0
}
